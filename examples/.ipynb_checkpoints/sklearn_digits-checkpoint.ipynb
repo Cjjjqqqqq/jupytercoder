{
 "cells": [
  {
   "cell_type": "code",
   "execution_count": 1,
   "id": "1114df89",
   "metadata": {},
   "outputs": [
    {
     "ename": "ModuleNotFoundError",
     "evalue": "No module named 'sklearn'",
     "output_type": "error",
     "traceback": [
      "\u001b[0;31m---------------------------------------------------------------------------\u001b[0m",
      "\u001b[0;31mModuleNotFoundError\u001b[0m                       Traceback (most recent call last)",
      "Cell \u001b[0;32mIn[1], line 2\u001b[0m\n\u001b[1;32m      1\u001b[0m \u001b[38;5;66;03m# load Digits Dataset from sklearnabs\u001b[39;00m\n\u001b[0;32m----> 2\u001b[0m \u001b[38;5;28;01mfrom\u001b[39;00m \u001b[38;5;21;01msklearn\u001b[39;00m\u001b[38;5;21;01m.\u001b[39;00m\u001b[38;5;21;01mdatasets\u001b[39;00m \u001b[38;5;28;01mimport\u001b[39;00m load_digits\n\u001b[1;32m      3\u001b[0m digits \u001b[38;5;241m=\u001b[39m load_digits()\n",
      "\u001b[0;31mModuleNotFoundError\u001b[0m: No module named 'sklearn'"
     ]
    }
   ],
   "source": [
    "# load Digits Dataset from sklearnabs"
   ]
  },
  {
   "cell_type": "code",
   "execution_count": null,
   "id": "ffe12cc8",
   "metadata": {},
   "outputs": [],
   "source": [
    "# Print to show there are 1797 images (8 by 8 images for a dimensionality of 64)\n",
    "# Print to show there are 1797 labels (integers from 0–9)\n",
    "# load Digits Dataset from sklearnabsasdasd"
   ]
  },
  {
   "cell_type": "code",
   "execution_count": null,
   "id": "be53a702",
   "metadata": {},
   "outputs": [],
   "source": [
    "# Showing the Images and the Labels (Digits Dataset)\n",
    "# This section is really just to show what the images and labels\n",
    "# look like. It usually helps to visualize your data to see\n",
    "# what you are working with.\n"
   ]
  }
 ],
 "metadata": {
  "kernelspec": {
   "display_name": "Python 3 (ipykernel)",
   "language": "python",
   "name": "python3"
  },
  "language_info": {
   "codemirror_mode": {
    "name": "ipython",
    "version": 3
   },
   "file_extension": ".py",
   "mimetype": "text/x-python",
   "name": "python",
   "nbconvert_exporter": "python",
   "pygments_lexer": "ipython3",
   "version": "3.10.6"
  }
 },
 "nbformat": 4,
 "nbformat_minor": 5
}
